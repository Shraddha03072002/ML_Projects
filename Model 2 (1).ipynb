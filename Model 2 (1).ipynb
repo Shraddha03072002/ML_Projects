{
 "cells": [
  {
   "cell_type": "markdown",
   "id": "3297a9eb",
   "metadata": {},
   "source": [
    "Straight line alphabets = A,E,F,H,I,K,L,M,N,T,V,W,X,Y,Z."
   ]
  },
  {
   "cell_type": "code",
   "execution_count": null,
   "id": "785fe511",
   "metadata": {},
   "outputs": [],
   "source": [
    " There are Model 1 , Model 2 and Model 3."
   ]
  },
  {
   "cell_type": "code",
   "execution_count": null,
   "id": "fdc78eba",
   "metadata": {},
   "outputs": [],
   "source": [
    "### Data\n",
    "\n",
    "1. lettr = capital letter (26 values from A to Z)\n",
    "2. x-box = horizontal position of box (integer)\n",
    "3. y-box = vertical position of box (integer)\n",
    "4. width = width of box (integer)\n",
    "5. high = height of box (integer)\n",
    "6. onpix = total # on pixels (integer)\n",
    "7. x-bar = mean x of on pixels in box (integer)\n",
    "8. y-bar = mean y of on pixels in box (integer)\n",
    "9. x2bar = mean x variance (integer)\n",
    "10. y2bar = mean y variance (integer)\n",
    "11. xybar = mean x y correlation (integer)\n",
    "12. x2ybr = mean of x * x * y (integer)\n",
    "13. xy2br = mean of x * y * y (integer)\n",
    "14. x-ege = mean edge count left to right (integer)\n",
    "15. xegvy = correlation of x-ege with y (integer)\n",
    "16. y-ege = mean edge count bottom to top (integer)\n",
    "17. yegvx = correlation of y-ege with x (integer)"
   ]
  },
  {
   "cell_type": "code",
   "execution_count": null,
   "id": "824c99b7",
   "metadata": {},
   "outputs": [],
   "source": [
    " #we can drop the duplicate values because it is less then 40%"
   ]
  },
  {
   "cell_type": "code",
   "execution_count": 1,
   "id": "d4af1a3e",
   "metadata": {},
   "outputs": [],
   "source": [
    "import pandas as pd\n",
    "import numpy as np\n",
    "import matplotlib.pyplot as plt\n",
    "import seaborn as sns\n",
    "from sklearn import datasets \n",
    "from sklearn.model_selection import train_test_split \n",
    "from sklearn.preprocessing import StandardScaler\n",
    "from sklearn.neighbors import KNeighborsClassifier\n",
    "from sklearn.metrics import plot_confusion_matrix, classification_report"
   ]
  },
  {
   "cell_type": "code",
   "execution_count": 2,
   "id": "44d5fac8",
   "metadata": {},
   "outputs": [],
   "source": [
    "df=pd.read_csv(\"letters.csv\")"
   ]
  },
  {
   "cell_type": "code",
   "execution_count": 3,
   "id": "616dcfcc",
   "metadata": {},
   "outputs": [],
   "source": [
    "list1=[\"A\",\"E\",\"F\",\"H\",\"I\",\"K\",\"L\",\"M\",\"N\",\"T\",\"V\",\"W\",\"X\",\"Y\",\"Z\"]"
   ]
  },
  {
   "cell_type": "code",
   "execution_count": 4,
   "id": "0e553373",
   "metadata": {},
   "outputs": [],
   "source": [
    "df = df[df.lettr.isin(list1)]"
   ]
  },
  {
   "cell_type": "code",
   "execution_count": 5,
   "id": "4a846eb3",
   "metadata": {},
   "outputs": [
    {
     "data": {
      "text/html": [
       "<div>\n",
       "<style scoped>\n",
       "    .dataframe tbody tr th:only-of-type {\n",
       "        vertical-align: middle;\n",
       "    }\n",
       "\n",
       "    .dataframe tbody tr th {\n",
       "        vertical-align: top;\n",
       "    }\n",
       "\n",
       "    .dataframe thead th {\n",
       "        text-align: right;\n",
       "    }\n",
       "</style>\n",
       "<table border=\"1\" class=\"dataframe\">\n",
       "  <thead>\n",
       "    <tr style=\"text-align: right;\">\n",
       "      <th></th>\n",
       "      <th>lettr</th>\n",
       "      <th>x-box</th>\n",
       "      <th>y-box</th>\n",
       "      <th>width</th>\n",
       "      <th>high</th>\n",
       "      <th>onpix</th>\n",
       "      <th>x-bar</th>\n",
       "      <th>y-bar</th>\n",
       "      <th>x2bar</th>\n",
       "      <th>y2bar</th>\n",
       "      <th>xybar</th>\n",
       "      <th>x2ybar</th>\n",
       "      <th>xy2bar</th>\n",
       "      <th>x-ege</th>\n",
       "      <th>xegvy</th>\n",
       "      <th>y-ege</th>\n",
       "      <th>yegvx</th>\n",
       "    </tr>\n",
       "  </thead>\n",
       "  <tbody>\n",
       "    <tr>\n",
       "      <th>0</th>\n",
       "      <td>T</td>\n",
       "      <td>2</td>\n",
       "      <td>8</td>\n",
       "      <td>3</td>\n",
       "      <td>5</td>\n",
       "      <td>1</td>\n",
       "      <td>8</td>\n",
       "      <td>13</td>\n",
       "      <td>0</td>\n",
       "      <td>6</td>\n",
       "      <td>6</td>\n",
       "      <td>10</td>\n",
       "      <td>8</td>\n",
       "      <td>0</td>\n",
       "      <td>8</td>\n",
       "      <td>0</td>\n",
       "      <td>8</td>\n",
       "    </tr>\n",
       "    <tr>\n",
       "      <th>1</th>\n",
       "      <td>I</td>\n",
       "      <td>5</td>\n",
       "      <td>12</td>\n",
       "      <td>3</td>\n",
       "      <td>7</td>\n",
       "      <td>2</td>\n",
       "      <td>10</td>\n",
       "      <td>5</td>\n",
       "      <td>5</td>\n",
       "      <td>4</td>\n",
       "      <td>13</td>\n",
       "      <td>3</td>\n",
       "      <td>9</td>\n",
       "      <td>2</td>\n",
       "      <td>8</td>\n",
       "      <td>4</td>\n",
       "      <td>10</td>\n",
       "    </tr>\n",
       "    <tr>\n",
       "      <th>3</th>\n",
       "      <td>N</td>\n",
       "      <td>7</td>\n",
       "      <td>11</td>\n",
       "      <td>6</td>\n",
       "      <td>6</td>\n",
       "      <td>3</td>\n",
       "      <td>5</td>\n",
       "      <td>9</td>\n",
       "      <td>4</td>\n",
       "      <td>6</td>\n",
       "      <td>4</td>\n",
       "      <td>4</td>\n",
       "      <td>10</td>\n",
       "      <td>6</td>\n",
       "      <td>10</td>\n",
       "      <td>2</td>\n",
       "      <td>8</td>\n",
       "    </tr>\n",
       "    <tr>\n",
       "      <th>7</th>\n",
       "      <td>A</td>\n",
       "      <td>1</td>\n",
       "      <td>1</td>\n",
       "      <td>3</td>\n",
       "      <td>2</td>\n",
       "      <td>1</td>\n",
       "      <td>8</td>\n",
       "      <td>2</td>\n",
       "      <td>2</td>\n",
       "      <td>2</td>\n",
       "      <td>8</td>\n",
       "      <td>2</td>\n",
       "      <td>8</td>\n",
       "      <td>1</td>\n",
       "      <td>6</td>\n",
       "      <td>2</td>\n",
       "      <td>7</td>\n",
       "    </tr>\n",
       "    <tr>\n",
       "      <th>9</th>\n",
       "      <td>M</td>\n",
       "      <td>11</td>\n",
       "      <td>15</td>\n",
       "      <td>13</td>\n",
       "      <td>9</td>\n",
       "      <td>7</td>\n",
       "      <td>13</td>\n",
       "      <td>2</td>\n",
       "      <td>6</td>\n",
       "      <td>2</td>\n",
       "      <td>12</td>\n",
       "      <td>1</td>\n",
       "      <td>9</td>\n",
       "      <td>8</td>\n",
       "      <td>1</td>\n",
       "      <td>1</td>\n",
       "      <td>8</td>\n",
       "    </tr>\n",
       "  </tbody>\n",
       "</table>\n",
       "</div>"
      ],
      "text/plain": [
       "  lettr  x-box  y-box  width  high  onpix  x-bar  y-bar  x2bar  y2bar  xybar  \\\n",
       "0     T      2      8      3     5      1      8     13      0      6      6   \n",
       "1     I      5     12      3     7      2     10      5      5      4     13   \n",
       "3     N      7     11      6     6      3      5      9      4      6      4   \n",
       "7     A      1      1      3     2      1      8      2      2      2      8   \n",
       "9     M     11     15     13     9      7     13      2      6      2     12   \n",
       "\n",
       "   x2ybar  xy2bar  x-ege  xegvy  y-ege  yegvx  \n",
       "0      10       8      0      8      0      8  \n",
       "1       3       9      2      8      4     10  \n",
       "3       4      10      6     10      2      8  \n",
       "7       2       8      1      6      2      7  \n",
       "9       1       9      8      1      1      8  "
      ]
     },
     "execution_count": 5,
     "metadata": {},
     "output_type": "execute_result"
    }
   ],
   "source": [
    "df.head()"
   ]
  },
  {
   "cell_type": "code",
   "execution_count": 6,
   "id": "8a81b2c7",
   "metadata": {},
   "outputs": [
    {
     "data": {
      "text/html": [
       "<div>\n",
       "<style scoped>\n",
       "    .dataframe tbody tr th:only-of-type {\n",
       "        vertical-align: middle;\n",
       "    }\n",
       "\n",
       "    .dataframe tbody tr th {\n",
       "        vertical-align: top;\n",
       "    }\n",
       "\n",
       "    .dataframe thead th {\n",
       "        text-align: right;\n",
       "    }\n",
       "</style>\n",
       "<table border=\"1\" class=\"dataframe\">\n",
       "  <thead>\n",
       "    <tr style=\"text-align: right;\">\n",
       "      <th></th>\n",
       "      <th>lettr</th>\n",
       "      <th>x-box</th>\n",
       "      <th>y-box</th>\n",
       "      <th>width</th>\n",
       "      <th>high</th>\n",
       "      <th>onpix</th>\n",
       "      <th>x-bar</th>\n",
       "      <th>y-bar</th>\n",
       "      <th>x2bar</th>\n",
       "      <th>y2bar</th>\n",
       "      <th>xybar</th>\n",
       "      <th>x2ybar</th>\n",
       "      <th>xy2bar</th>\n",
       "      <th>x-ege</th>\n",
       "      <th>xegvy</th>\n",
       "      <th>y-ege</th>\n",
       "      <th>yegvx</th>\n",
       "    </tr>\n",
       "  </thead>\n",
       "  <tbody>\n",
       "    <tr>\n",
       "      <th>19990</th>\n",
       "      <td>W</td>\n",
       "      <td>3</td>\n",
       "      <td>8</td>\n",
       "      <td>5</td>\n",
       "      <td>6</td>\n",
       "      <td>5</td>\n",
       "      <td>11</td>\n",
       "      <td>11</td>\n",
       "      <td>2</td>\n",
       "      <td>2</td>\n",
       "      <td>5</td>\n",
       "      <td>8</td>\n",
       "      <td>7</td>\n",
       "      <td>7</td>\n",
       "      <td>12</td>\n",
       "      <td>1</td>\n",
       "      <td>7</td>\n",
       "    </tr>\n",
       "    <tr>\n",
       "      <th>19992</th>\n",
       "      <td>E</td>\n",
       "      <td>4</td>\n",
       "      <td>9</td>\n",
       "      <td>5</td>\n",
       "      <td>6</td>\n",
       "      <td>3</td>\n",
       "      <td>5</td>\n",
       "      <td>9</td>\n",
       "      <td>2</td>\n",
       "      <td>10</td>\n",
       "      <td>10</td>\n",
       "      <td>8</td>\n",
       "      <td>9</td>\n",
       "      <td>2</td>\n",
       "      <td>8</td>\n",
       "      <td>5</td>\n",
       "      <td>5</td>\n",
       "    </tr>\n",
       "    <tr>\n",
       "      <th>19994</th>\n",
       "      <td>T</td>\n",
       "      <td>5</td>\n",
       "      <td>8</td>\n",
       "      <td>7</td>\n",
       "      <td>7</td>\n",
       "      <td>7</td>\n",
       "      <td>7</td>\n",
       "      <td>9</td>\n",
       "      <td>4</td>\n",
       "      <td>8</td>\n",
       "      <td>7</td>\n",
       "      <td>7</td>\n",
       "      <td>8</td>\n",
       "      <td>3</td>\n",
       "      <td>10</td>\n",
       "      <td>8</td>\n",
       "      <td>6</td>\n",
       "    </tr>\n",
       "    <tr>\n",
       "      <th>19997</th>\n",
       "      <td>T</td>\n",
       "      <td>6</td>\n",
       "      <td>9</td>\n",
       "      <td>6</td>\n",
       "      <td>7</td>\n",
       "      <td>5</td>\n",
       "      <td>6</td>\n",
       "      <td>11</td>\n",
       "      <td>3</td>\n",
       "      <td>7</td>\n",
       "      <td>11</td>\n",
       "      <td>9</td>\n",
       "      <td>5</td>\n",
       "      <td>2</td>\n",
       "      <td>12</td>\n",
       "      <td>2</td>\n",
       "      <td>4</td>\n",
       "    </tr>\n",
       "    <tr>\n",
       "      <th>19999</th>\n",
       "      <td>A</td>\n",
       "      <td>4</td>\n",
       "      <td>9</td>\n",
       "      <td>6</td>\n",
       "      <td>6</td>\n",
       "      <td>2</td>\n",
       "      <td>9</td>\n",
       "      <td>5</td>\n",
       "      <td>3</td>\n",
       "      <td>1</td>\n",
       "      <td>8</td>\n",
       "      <td>1</td>\n",
       "      <td>8</td>\n",
       "      <td>2</td>\n",
       "      <td>7</td>\n",
       "      <td>2</td>\n",
       "      <td>8</td>\n",
       "    </tr>\n",
       "  </tbody>\n",
       "</table>\n",
       "</div>"
      ],
      "text/plain": [
       "      lettr  x-box  y-box  width  high  onpix  x-bar  y-bar  x2bar  y2bar  \\\n",
       "19990     W      3      8      5     6      5     11     11      2      2   \n",
       "19992     E      4      9      5     6      3      5      9      2     10   \n",
       "19994     T      5      8      7     7      7      7      9      4      8   \n",
       "19997     T      6      9      6     7      5      6     11      3      7   \n",
       "19999     A      4      9      6     6      2      9      5      3      1   \n",
       "\n",
       "       xybar  x2ybar  xy2bar  x-ege  xegvy  y-ege  yegvx  \n",
       "19990      5       8       7      7     12      1      7  \n",
       "19992     10       8       9      2      8      5      5  \n",
       "19994      7       7       8      3     10      8      6  \n",
       "19997     11       9       5      2     12      2      4  \n",
       "19999      8       1       8      2      7      2      8  "
      ]
     },
     "execution_count": 6,
     "metadata": {},
     "output_type": "execute_result"
    }
   ],
   "source": [
    "df.tail()"
   ]
  },
  {
   "cell_type": "code",
   "execution_count": 7,
   "id": "a7ed72c1",
   "metadata": {},
   "outputs": [
    {
     "name": "stdout",
     "output_type": "stream",
     "text": [
      "<class 'pandas.core.frame.DataFrame'>\n",
      "Int64Index: 11515 entries, 0 to 19999\n",
      "Data columns (total 17 columns):\n",
      " #   Column  Non-Null Count  Dtype \n",
      "---  ------  --------------  ----- \n",
      " 0   lettr   11515 non-null  object\n",
      " 1   x-box   11515 non-null  int64 \n",
      " 2   y-box   11515 non-null  int64 \n",
      " 3   width   11515 non-null  int64 \n",
      " 4   high    11515 non-null  int64 \n",
      " 5   onpix   11515 non-null  int64 \n",
      " 6   x-bar   11515 non-null  int64 \n",
      " 7   y-bar   11515 non-null  int64 \n",
      " 8   x2bar   11515 non-null  int64 \n",
      " 9   y2bar   11515 non-null  int64 \n",
      " 10  xybar   11515 non-null  int64 \n",
      " 11  x2ybar  11515 non-null  int64 \n",
      " 12  xy2bar  11515 non-null  int64 \n",
      " 13  x-ege   11515 non-null  int64 \n",
      " 14  xegvy   11515 non-null  int64 \n",
      " 15  y-ege   11515 non-null  int64 \n",
      " 16  yegvx   11515 non-null  int64 \n",
      "dtypes: int64(16), object(1)\n",
      "memory usage: 1.6+ MB\n"
     ]
    }
   ],
   "source": [
    "df.info()"
   ]
  },
  {
   "cell_type": "code",
   "execution_count": 8,
   "id": "b281fdb6",
   "metadata": {},
   "outputs": [
    {
     "data": {
      "text/html": [
       "<div>\n",
       "<style scoped>\n",
       "    .dataframe tbody tr th:only-of-type {\n",
       "        vertical-align: middle;\n",
       "    }\n",
       "\n",
       "    .dataframe tbody tr th {\n",
       "        vertical-align: top;\n",
       "    }\n",
       "\n",
       "    .dataframe thead th {\n",
       "        text-align: right;\n",
       "    }\n",
       "</style>\n",
       "<table border=\"1\" class=\"dataframe\">\n",
       "  <thead>\n",
       "    <tr style=\"text-align: right;\">\n",
       "      <th></th>\n",
       "      <th>x-box</th>\n",
       "      <th>y-box</th>\n",
       "      <th>width</th>\n",
       "      <th>high</th>\n",
       "      <th>onpix</th>\n",
       "      <th>x-bar</th>\n",
       "      <th>y-bar</th>\n",
       "      <th>x2bar</th>\n",
       "      <th>y2bar</th>\n",
       "      <th>xybar</th>\n",
       "      <th>x2ybar</th>\n",
       "      <th>xy2bar</th>\n",
       "      <th>x-ege</th>\n",
       "      <th>xegvy</th>\n",
       "      <th>y-ege</th>\n",
       "      <th>yegvx</th>\n",
       "    </tr>\n",
       "  </thead>\n",
       "  <tbody>\n",
       "    <tr>\n",
       "      <th>count</th>\n",
       "      <td>11515.000000</td>\n",
       "      <td>11515.000000</td>\n",
       "      <td>11515.000000</td>\n",
       "      <td>11515.000000</td>\n",
       "      <td>11515.000000</td>\n",
       "      <td>11515.000000</td>\n",
       "      <td>11515.000000</td>\n",
       "      <td>11515.000000</td>\n",
       "      <td>11515.000000</td>\n",
       "      <td>11515.000000</td>\n",
       "      <td>11515.000000</td>\n",
       "      <td>11515.000000</td>\n",
       "      <td>11515.000000</td>\n",
       "      <td>11515.000000</td>\n",
       "      <td>11515.000000</td>\n",
       "      <td>11515.000000</td>\n",
       "    </tr>\n",
       "    <tr>\n",
       "      <th>mean</th>\n",
       "      <td>4.017716</td>\n",
       "      <td>7.037429</td>\n",
       "      <td>5.226487</td>\n",
       "      <td>5.322710</td>\n",
       "      <td>3.427008</td>\n",
       "      <td>6.628832</td>\n",
       "      <td>7.696135</td>\n",
       "      <td>3.813548</td>\n",
       "      <td>5.069040</td>\n",
       "      <td>8.158836</td>\n",
       "      <td>6.730786</td>\n",
       "      <td>7.899349</td>\n",
       "      <td>3.243508</td>\n",
       "      <td>8.441077</td>\n",
       "      <td>3.173686</td>\n",
       "      <td>7.481546</td>\n",
       "    </tr>\n",
       "    <tr>\n",
       "      <th>std</th>\n",
       "      <td>1.975848</td>\n",
       "      <td>3.302912</td>\n",
       "      <td>2.156974</td>\n",
       "      <td>2.247474</td>\n",
       "      <td>2.241836</td>\n",
       "      <td>2.154079</td>\n",
       "      <td>2.636441</td>\n",
       "      <td>2.711934</td>\n",
       "      <td>2.672015</td>\n",
       "      <td>2.542508</td>\n",
       "      <td>2.952632</td>\n",
       "      <td>1.808496</td>\n",
       "      <td>2.648724</td>\n",
       "      <td>1.723424</td>\n",
       "      <td>2.592071</td>\n",
       "      <td>1.550853</td>\n",
       "    </tr>\n",
       "    <tr>\n",
       "      <th>min</th>\n",
       "      <td>0.000000</td>\n",
       "      <td>0.000000</td>\n",
       "      <td>0.000000</td>\n",
       "      <td>0.000000</td>\n",
       "      <td>0.000000</td>\n",
       "      <td>0.000000</td>\n",
       "      <td>0.000000</td>\n",
       "      <td>0.000000</td>\n",
       "      <td>0.000000</td>\n",
       "      <td>0.000000</td>\n",
       "      <td>0.000000</td>\n",
       "      <td>2.000000</td>\n",
       "      <td>0.000000</td>\n",
       "      <td>0.000000</td>\n",
       "      <td>0.000000</td>\n",
       "      <td>0.000000</td>\n",
       "    </tr>\n",
       "    <tr>\n",
       "      <th>25%</th>\n",
       "      <td>3.000000</td>\n",
       "      <td>5.000000</td>\n",
       "      <td>4.000000</td>\n",
       "      <td>4.000000</td>\n",
       "      <td>2.000000</td>\n",
       "      <td>6.000000</td>\n",
       "      <td>7.000000</td>\n",
       "      <td>2.000000</td>\n",
       "      <td>3.000000</td>\n",
       "      <td>7.000000</td>\n",
       "      <td>5.000000</td>\n",
       "      <td>7.000000</td>\n",
       "      <td>1.000000</td>\n",
       "      <td>8.000000</td>\n",
       "      <td>1.000000</td>\n",
       "      <td>7.000000</td>\n",
       "    </tr>\n",
       "    <tr>\n",
       "      <th>50%</th>\n",
       "      <td>4.000000</td>\n",
       "      <td>7.000000</td>\n",
       "      <td>5.000000</td>\n",
       "      <td>6.000000</td>\n",
       "      <td>3.000000</td>\n",
       "      <td>7.000000</td>\n",
       "      <td>7.000000</td>\n",
       "      <td>3.000000</td>\n",
       "      <td>5.000000</td>\n",
       "      <td>7.000000</td>\n",
       "      <td>6.000000</td>\n",
       "      <td>8.000000</td>\n",
       "      <td>3.000000</td>\n",
       "      <td>8.000000</td>\n",
       "      <td>3.000000</td>\n",
       "      <td>8.000000</td>\n",
       "    </tr>\n",
       "    <tr>\n",
       "      <th>75%</th>\n",
       "      <td>5.000000</td>\n",
       "      <td>9.000000</td>\n",
       "      <td>6.000000</td>\n",
       "      <td>7.000000</td>\n",
       "      <td>5.000000</td>\n",
       "      <td>8.000000</td>\n",
       "      <td>9.000000</td>\n",
       "      <td>5.000000</td>\n",
       "      <td>7.000000</td>\n",
       "      <td>10.000000</td>\n",
       "      <td>9.000000</td>\n",
       "      <td>9.000000</td>\n",
       "      <td>5.000000</td>\n",
       "      <td>10.000000</td>\n",
       "      <td>5.000000</td>\n",
       "      <td>8.000000</td>\n",
       "    </tr>\n",
       "    <tr>\n",
       "      <th>max</th>\n",
       "      <td>15.000000</td>\n",
       "      <td>15.000000</td>\n",
       "      <td>15.000000</td>\n",
       "      <td>15.000000</td>\n",
       "      <td>15.000000</td>\n",
       "      <td>14.000000</td>\n",
       "      <td>15.000000</td>\n",
       "      <td>15.000000</td>\n",
       "      <td>15.000000</td>\n",
       "      <td>14.000000</td>\n",
       "      <td>14.000000</td>\n",
       "      <td>15.000000</td>\n",
       "      <td>15.000000</td>\n",
       "      <td>14.000000</td>\n",
       "      <td>14.000000</td>\n",
       "      <td>15.000000</td>\n",
       "    </tr>\n",
       "  </tbody>\n",
       "</table>\n",
       "</div>"
      ],
      "text/plain": [
       "              x-box         y-box         width          high         onpix  \\\n",
       "count  11515.000000  11515.000000  11515.000000  11515.000000  11515.000000   \n",
       "mean       4.017716      7.037429      5.226487      5.322710      3.427008   \n",
       "std        1.975848      3.302912      2.156974      2.247474      2.241836   \n",
       "min        0.000000      0.000000      0.000000      0.000000      0.000000   \n",
       "25%        3.000000      5.000000      4.000000      4.000000      2.000000   \n",
       "50%        4.000000      7.000000      5.000000      6.000000      3.000000   \n",
       "75%        5.000000      9.000000      6.000000      7.000000      5.000000   \n",
       "max       15.000000     15.000000     15.000000     15.000000     15.000000   \n",
       "\n",
       "              x-bar         y-bar         x2bar         y2bar         xybar  \\\n",
       "count  11515.000000  11515.000000  11515.000000  11515.000000  11515.000000   \n",
       "mean       6.628832      7.696135      3.813548      5.069040      8.158836   \n",
       "std        2.154079      2.636441      2.711934      2.672015      2.542508   \n",
       "min        0.000000      0.000000      0.000000      0.000000      0.000000   \n",
       "25%        6.000000      7.000000      2.000000      3.000000      7.000000   \n",
       "50%        7.000000      7.000000      3.000000      5.000000      7.000000   \n",
       "75%        8.000000      9.000000      5.000000      7.000000     10.000000   \n",
       "max       14.000000     15.000000     15.000000     15.000000     14.000000   \n",
       "\n",
       "             x2ybar        xy2bar         x-ege         xegvy         y-ege  \\\n",
       "count  11515.000000  11515.000000  11515.000000  11515.000000  11515.000000   \n",
       "mean       6.730786      7.899349      3.243508      8.441077      3.173686   \n",
       "std        2.952632      1.808496      2.648724      1.723424      2.592071   \n",
       "min        0.000000      2.000000      0.000000      0.000000      0.000000   \n",
       "25%        5.000000      7.000000      1.000000      8.000000      1.000000   \n",
       "50%        6.000000      8.000000      3.000000      8.000000      3.000000   \n",
       "75%        9.000000      9.000000      5.000000     10.000000      5.000000   \n",
       "max       14.000000     15.000000     15.000000     14.000000     14.000000   \n",
       "\n",
       "              yegvx  \n",
       "count  11515.000000  \n",
       "mean       7.481546  \n",
       "std        1.550853  \n",
       "min        0.000000  \n",
       "25%        7.000000  \n",
       "50%        8.000000  \n",
       "75%        8.000000  \n",
       "max       15.000000  "
      ]
     },
     "execution_count": 8,
     "metadata": {},
     "output_type": "execute_result"
    }
   ],
   "source": [
    "df.describe()"
   ]
  },
  {
   "cell_type": "code",
   "execution_count": 9,
   "id": "e9594b57",
   "metadata": {},
   "outputs": [
    {
     "data": {
      "text/html": [
       "<div>\n",
       "<style scoped>\n",
       "    .dataframe tbody tr th:only-of-type {\n",
       "        vertical-align: middle;\n",
       "    }\n",
       "\n",
       "    .dataframe tbody tr th {\n",
       "        vertical-align: top;\n",
       "    }\n",
       "\n",
       "    .dataframe thead th {\n",
       "        text-align: right;\n",
       "    }\n",
       "</style>\n",
       "<table border=\"1\" class=\"dataframe\">\n",
       "  <thead>\n",
       "    <tr style=\"text-align: right;\">\n",
       "      <th></th>\n",
       "      <th>count</th>\n",
       "      <th>unique</th>\n",
       "      <th>top</th>\n",
       "      <th>freq</th>\n",
       "      <th>mean</th>\n",
       "      <th>std</th>\n",
       "      <th>min</th>\n",
       "      <th>25%</th>\n",
       "      <th>50%</th>\n",
       "      <th>75%</th>\n",
       "      <th>max</th>\n",
       "    </tr>\n",
       "  </thead>\n",
       "  <tbody>\n",
       "    <tr>\n",
       "      <th>lettr</th>\n",
       "      <td>11515</td>\n",
       "      <td>15</td>\n",
       "      <td>T</td>\n",
       "      <td>796</td>\n",
       "      <td>NaN</td>\n",
       "      <td>NaN</td>\n",
       "      <td>NaN</td>\n",
       "      <td>NaN</td>\n",
       "      <td>NaN</td>\n",
       "      <td>NaN</td>\n",
       "      <td>NaN</td>\n",
       "    </tr>\n",
       "    <tr>\n",
       "      <th>x-box</th>\n",
       "      <td>11515.0</td>\n",
       "      <td>NaN</td>\n",
       "      <td>NaN</td>\n",
       "      <td>NaN</td>\n",
       "      <td>4.017716</td>\n",
       "      <td>1.975848</td>\n",
       "      <td>0.0</td>\n",
       "      <td>3.0</td>\n",
       "      <td>4.0</td>\n",
       "      <td>5.0</td>\n",
       "      <td>15.0</td>\n",
       "    </tr>\n",
       "    <tr>\n",
       "      <th>y-box</th>\n",
       "      <td>11515.0</td>\n",
       "      <td>NaN</td>\n",
       "      <td>NaN</td>\n",
       "      <td>NaN</td>\n",
       "      <td>7.037429</td>\n",
       "      <td>3.302912</td>\n",
       "      <td>0.0</td>\n",
       "      <td>5.0</td>\n",
       "      <td>7.0</td>\n",
       "      <td>9.0</td>\n",
       "      <td>15.0</td>\n",
       "    </tr>\n",
       "    <tr>\n",
       "      <th>width</th>\n",
       "      <td>11515.0</td>\n",
       "      <td>NaN</td>\n",
       "      <td>NaN</td>\n",
       "      <td>NaN</td>\n",
       "      <td>5.226487</td>\n",
       "      <td>2.156974</td>\n",
       "      <td>0.0</td>\n",
       "      <td>4.0</td>\n",
       "      <td>5.0</td>\n",
       "      <td>6.0</td>\n",
       "      <td>15.0</td>\n",
       "    </tr>\n",
       "    <tr>\n",
       "      <th>high</th>\n",
       "      <td>11515.0</td>\n",
       "      <td>NaN</td>\n",
       "      <td>NaN</td>\n",
       "      <td>NaN</td>\n",
       "      <td>5.32271</td>\n",
       "      <td>2.247474</td>\n",
       "      <td>0.0</td>\n",
       "      <td>4.0</td>\n",
       "      <td>6.0</td>\n",
       "      <td>7.0</td>\n",
       "      <td>15.0</td>\n",
       "    </tr>\n",
       "    <tr>\n",
       "      <th>onpix</th>\n",
       "      <td>11515.0</td>\n",
       "      <td>NaN</td>\n",
       "      <td>NaN</td>\n",
       "      <td>NaN</td>\n",
       "      <td>3.427008</td>\n",
       "      <td>2.241836</td>\n",
       "      <td>0.0</td>\n",
       "      <td>2.0</td>\n",
       "      <td>3.0</td>\n",
       "      <td>5.0</td>\n",
       "      <td>15.0</td>\n",
       "    </tr>\n",
       "    <tr>\n",
       "      <th>x-bar</th>\n",
       "      <td>11515.0</td>\n",
       "      <td>NaN</td>\n",
       "      <td>NaN</td>\n",
       "      <td>NaN</td>\n",
       "      <td>6.628832</td>\n",
       "      <td>2.154079</td>\n",
       "      <td>0.0</td>\n",
       "      <td>6.0</td>\n",
       "      <td>7.0</td>\n",
       "      <td>8.0</td>\n",
       "      <td>14.0</td>\n",
       "    </tr>\n",
       "    <tr>\n",
       "      <th>y-bar</th>\n",
       "      <td>11515.0</td>\n",
       "      <td>NaN</td>\n",
       "      <td>NaN</td>\n",
       "      <td>NaN</td>\n",
       "      <td>7.696135</td>\n",
       "      <td>2.636441</td>\n",
       "      <td>0.0</td>\n",
       "      <td>7.0</td>\n",
       "      <td>7.0</td>\n",
       "      <td>9.0</td>\n",
       "      <td>15.0</td>\n",
       "    </tr>\n",
       "    <tr>\n",
       "      <th>x2bar</th>\n",
       "      <td>11515.0</td>\n",
       "      <td>NaN</td>\n",
       "      <td>NaN</td>\n",
       "      <td>NaN</td>\n",
       "      <td>3.813548</td>\n",
       "      <td>2.711934</td>\n",
       "      <td>0.0</td>\n",
       "      <td>2.0</td>\n",
       "      <td>3.0</td>\n",
       "      <td>5.0</td>\n",
       "      <td>15.0</td>\n",
       "    </tr>\n",
       "    <tr>\n",
       "      <th>y2bar</th>\n",
       "      <td>11515.0</td>\n",
       "      <td>NaN</td>\n",
       "      <td>NaN</td>\n",
       "      <td>NaN</td>\n",
       "      <td>5.06904</td>\n",
       "      <td>2.672015</td>\n",
       "      <td>0.0</td>\n",
       "      <td>3.0</td>\n",
       "      <td>5.0</td>\n",
       "      <td>7.0</td>\n",
       "      <td>15.0</td>\n",
       "    </tr>\n",
       "    <tr>\n",
       "      <th>xybar</th>\n",
       "      <td>11515.0</td>\n",
       "      <td>NaN</td>\n",
       "      <td>NaN</td>\n",
       "      <td>NaN</td>\n",
       "      <td>8.158836</td>\n",
       "      <td>2.542508</td>\n",
       "      <td>0.0</td>\n",
       "      <td>7.0</td>\n",
       "      <td>7.0</td>\n",
       "      <td>10.0</td>\n",
       "      <td>14.0</td>\n",
       "    </tr>\n",
       "    <tr>\n",
       "      <th>x2ybar</th>\n",
       "      <td>11515.0</td>\n",
       "      <td>NaN</td>\n",
       "      <td>NaN</td>\n",
       "      <td>NaN</td>\n",
       "      <td>6.730786</td>\n",
       "      <td>2.952632</td>\n",
       "      <td>0.0</td>\n",
       "      <td>5.0</td>\n",
       "      <td>6.0</td>\n",
       "      <td>9.0</td>\n",
       "      <td>14.0</td>\n",
       "    </tr>\n",
       "    <tr>\n",
       "      <th>xy2bar</th>\n",
       "      <td>11515.0</td>\n",
       "      <td>NaN</td>\n",
       "      <td>NaN</td>\n",
       "      <td>NaN</td>\n",
       "      <td>7.899349</td>\n",
       "      <td>1.808496</td>\n",
       "      <td>2.0</td>\n",
       "      <td>7.0</td>\n",
       "      <td>8.0</td>\n",
       "      <td>9.0</td>\n",
       "      <td>15.0</td>\n",
       "    </tr>\n",
       "    <tr>\n",
       "      <th>x-ege</th>\n",
       "      <td>11515.0</td>\n",
       "      <td>NaN</td>\n",
       "      <td>NaN</td>\n",
       "      <td>NaN</td>\n",
       "      <td>3.243508</td>\n",
       "      <td>2.648724</td>\n",
       "      <td>0.0</td>\n",
       "      <td>1.0</td>\n",
       "      <td>3.0</td>\n",
       "      <td>5.0</td>\n",
       "      <td>15.0</td>\n",
       "    </tr>\n",
       "    <tr>\n",
       "      <th>xegvy</th>\n",
       "      <td>11515.0</td>\n",
       "      <td>NaN</td>\n",
       "      <td>NaN</td>\n",
       "      <td>NaN</td>\n",
       "      <td>8.441077</td>\n",
       "      <td>1.723424</td>\n",
       "      <td>0.0</td>\n",
       "      <td>8.0</td>\n",
       "      <td>8.0</td>\n",
       "      <td>10.0</td>\n",
       "      <td>14.0</td>\n",
       "    </tr>\n",
       "    <tr>\n",
       "      <th>y-ege</th>\n",
       "      <td>11515.0</td>\n",
       "      <td>NaN</td>\n",
       "      <td>NaN</td>\n",
       "      <td>NaN</td>\n",
       "      <td>3.173686</td>\n",
       "      <td>2.592071</td>\n",
       "      <td>0.0</td>\n",
       "      <td>1.0</td>\n",
       "      <td>3.0</td>\n",
       "      <td>5.0</td>\n",
       "      <td>14.0</td>\n",
       "    </tr>\n",
       "    <tr>\n",
       "      <th>yegvx</th>\n",
       "      <td>11515.0</td>\n",
       "      <td>NaN</td>\n",
       "      <td>NaN</td>\n",
       "      <td>NaN</td>\n",
       "      <td>7.481546</td>\n",
       "      <td>1.550853</td>\n",
       "      <td>0.0</td>\n",
       "      <td>7.0</td>\n",
       "      <td>8.0</td>\n",
       "      <td>8.0</td>\n",
       "      <td>15.0</td>\n",
       "    </tr>\n",
       "  </tbody>\n",
       "</table>\n",
       "</div>"
      ],
      "text/plain": [
       "          count unique  top freq      mean       std  min  25%  50%   75%  \\\n",
       "lettr     11515     15    T  796       NaN       NaN  NaN  NaN  NaN   NaN   \n",
       "x-box   11515.0    NaN  NaN  NaN  4.017716  1.975848  0.0  3.0  4.0   5.0   \n",
       "y-box   11515.0    NaN  NaN  NaN  7.037429  3.302912  0.0  5.0  7.0   9.0   \n",
       "width   11515.0    NaN  NaN  NaN  5.226487  2.156974  0.0  4.0  5.0   6.0   \n",
       "high    11515.0    NaN  NaN  NaN   5.32271  2.247474  0.0  4.0  6.0   7.0   \n",
       "onpix   11515.0    NaN  NaN  NaN  3.427008  2.241836  0.0  2.0  3.0   5.0   \n",
       "x-bar   11515.0    NaN  NaN  NaN  6.628832  2.154079  0.0  6.0  7.0   8.0   \n",
       "y-bar   11515.0    NaN  NaN  NaN  7.696135  2.636441  0.0  7.0  7.0   9.0   \n",
       "x2bar   11515.0    NaN  NaN  NaN  3.813548  2.711934  0.0  2.0  3.0   5.0   \n",
       "y2bar   11515.0    NaN  NaN  NaN   5.06904  2.672015  0.0  3.0  5.0   7.0   \n",
       "xybar   11515.0    NaN  NaN  NaN  8.158836  2.542508  0.0  7.0  7.0  10.0   \n",
       "x2ybar  11515.0    NaN  NaN  NaN  6.730786  2.952632  0.0  5.0  6.0   9.0   \n",
       "xy2bar  11515.0    NaN  NaN  NaN  7.899349  1.808496  2.0  7.0  8.0   9.0   \n",
       "x-ege   11515.0    NaN  NaN  NaN  3.243508  2.648724  0.0  1.0  3.0   5.0   \n",
       "xegvy   11515.0    NaN  NaN  NaN  8.441077  1.723424  0.0  8.0  8.0  10.0   \n",
       "y-ege   11515.0    NaN  NaN  NaN  3.173686  2.592071  0.0  1.0  3.0   5.0   \n",
       "yegvx   11515.0    NaN  NaN  NaN  7.481546  1.550853  0.0  7.0  8.0   8.0   \n",
       "\n",
       "         max  \n",
       "lettr    NaN  \n",
       "x-box   15.0  \n",
       "y-box   15.0  \n",
       "width   15.0  \n",
       "high    15.0  \n",
       "onpix   15.0  \n",
       "x-bar   14.0  \n",
       "y-bar   15.0  \n",
       "x2bar   15.0  \n",
       "y2bar   15.0  \n",
       "xybar   14.0  \n",
       "x2ybar  14.0  \n",
       "xy2bar  15.0  \n",
       "x-ege   15.0  \n",
       "xegvy   14.0  \n",
       "y-ege   14.0  \n",
       "yegvx   15.0  "
      ]
     },
     "execution_count": 9,
     "metadata": {},
     "output_type": "execute_result"
    }
   ],
   "source": [
    "df.describe(include=\"all\").T"
   ]
  },
  {
   "cell_type": "code",
   "execution_count": 45,
   "id": "58769409",
   "metadata": {},
   "outputs": [
    {
     "data": {
      "text/plain": [
       "8.0     4024\n",
       "9.0     1625\n",
       "7.0     1401\n",
       "6.0      875\n",
       "5.0      767\n",
       "10.0     673\n",
       "11.0     444\n",
       "4.0      388\n",
       "12.0     319\n",
       "Name: xy2bar, dtype: int64"
      ]
     },
     "execution_count": 45,
     "metadata": {},
     "output_type": "execute_result"
    }
   ],
   "source": [
    "df.xy2bar.value_counts()"
   ]
  },
  {
   "cell_type": "markdown",
   "id": "dcd2e561",
   "metadata": {},
   "source": [
    "### Data cleanup"
   ]
  },
  {
   "cell_type": "code",
   "execution_count": 10,
   "id": "8dcb18de",
   "metadata": {},
   "outputs": [
    {
     "data": {
      "text/plain": [
       "lettr     0\n",
       "x-box     0\n",
       "y-box     0\n",
       "width     0\n",
       "high      0\n",
       "onpix     0\n",
       "x-bar     0\n",
       "y-bar     0\n",
       "x2bar     0\n",
       "y2bar     0\n",
       "xybar     0\n",
       "x2ybar    0\n",
       "xy2bar    0\n",
       "x-ege     0\n",
       "xegvy     0\n",
       "y-ege     0\n",
       "yegvx     0\n",
       "dtype: int64"
      ]
     },
     "execution_count": 10,
     "metadata": {},
     "output_type": "execute_result"
    }
   ],
   "source": [
    "df.isnull().sum()"
   ]
  },
  {
   "cell_type": "code",
   "execution_count": 11,
   "id": "1b234a95",
   "metadata": {},
   "outputs": [
    {
     "data": {
      "text/plain": [
       "999"
      ]
     },
     "execution_count": 11,
     "metadata": {},
     "output_type": "execute_result"
    }
   ],
   "source": [
    "df.duplicated().sum()"
   ]
  },
  {
   "cell_type": "code",
   "execution_count": 12,
   "id": "5bd472b3",
   "metadata": {},
   "outputs": [],
   "source": [
    "df.drop_duplicates(inplace=True)"
   ]
  },
  {
   "cell_type": "code",
   "execution_count": 13,
   "id": "61bd7f5a",
   "metadata": {},
   "outputs": [],
   "source": [
    "df.reset_index(drop=True, inplace=True)"
   ]
  },
  {
   "cell_type": "code",
   "execution_count": 14,
   "id": "80a0a4c9",
   "metadata": {},
   "outputs": [
    {
     "data": {
      "text/plain": [
       "(10516, 17)"
      ]
     },
     "execution_count": 14,
     "metadata": {},
     "output_type": "execute_result"
    }
   ],
   "source": [
    "df.shape"
   ]
  },
  {
   "cell_type": "markdown",
   "id": "b1b9d929",
   "metadata": {},
   "source": [
    "### Outlier Treatment"
   ]
  },
  {
   "cell_type": "code",
   "execution_count": 15,
   "id": "a48184a9",
   "metadata": {},
   "outputs": [
    {
     "data": {
      "image/png": "[encoded data removed]",
      "text/plain": [
       "<Figure size 432x288 with 1 Axes>"
      ]
     },
     "metadata": {
      "needs_background": "light"
     },
     "output_type": "display_data"
    }
   ],
   "source": [
    "df.boxplot()\n",
    "plt.xticks(rotation=90)\n",
    "plt.show()"
   ]
  },
  {
   "cell_type": "code",
   "execution_count": 16,
   "id": "5202b1be",
   "metadata": {},
   "outputs": [],
   "source": [
    "def treat_outliers(x):\n",
    "    q1=np.percentile(x,25)\n",
    "    q3=np.percentile(x,75)\n",
    "    IQR=q3-q1\n",
    "    lower_bound=q1-(1.5*IQR)\n",
    "    upper_bound=q3+(1.5*IQR)\n",
    "    return x.apply(lambda y: upper_bound if y > upper_bound else y).apply(lambda y: lower_bound if y < lower_bound else y)"
   ]
  },
  {
   "cell_type": "code",
   "execution_count": 17,
   "id": "0214fb1f",
   "metadata": {},
   "outputs": [
    {
     "data": {
      "text/plain": [
       "Index(['x-box', 'y-box', 'width', 'high', 'onpix', 'x-bar', 'y-bar', 'x2bar',\n",
       "       'y2bar', 'xybar', 'x2ybar', 'xy2bar', 'x-ege', 'xegvy', 'y-ege',\n",
       "       'yegvx'],\n",
       "      dtype='object')"
      ]
     },
     "execution_count": 17,
     "metadata": {},
     "output_type": "execute_result"
    }
   ],
   "source": [
    "df_num=df.select_dtypes(exclude=\"object\")\n",
    "num_list=df_num.columns\n",
    "num_list"
   ]
  },
  {
   "cell_type": "code",
   "execution_count": 18,
   "id": "81d9217b",
   "metadata": {},
   "outputs": [],
   "source": [
    "for i in num_list:\n",
    "    df[i]=treat_outliers(df[i])"
   ]
  },
  {
   "cell_type": "code",
   "execution_count": 19,
   "id": "cdffee43",
   "metadata": {},
   "outputs": [
    {
     "data": {
      "image/png": "[encoded data removed]",
      "text/plain": [
       "<Figure size 432x288 with 1 Axes>"
      ]
     },
     "metadata": {
      "needs_background": "light"
     },
     "output_type": "display_data"
    }
   ],
   "source": [
    "df[num_list].boxplot()\n",
    "plt.xticks(rotation=90)\n",
    "plt.show()"
   ]
  },
  {
   "cell_type": "code",
   "execution_count": null,
   "id": "1bf5615e",
   "metadata": {},
   "outputs": [],
   "source": []
  },
  {
   "cell_type": "code",
   "execution_count": null,
   "id": "93eecc7e",
   "metadata": {},
   "outputs": [],
   "source": []
  },
  {
   "cell_type": "markdown",
   "id": "c1bb8353",
   "metadata": {},
   "source": [
    "### Spliting of data"
   ]
  },
  {
   "cell_type": "code",
   "execution_count": 20,
   "id": "81430814",
   "metadata": {},
   "outputs": [],
   "source": [
    "x = df.drop(\"lettr\",axis=1)\n",
    "y = df.lettr"
   ]
  },
  {
   "cell_type": "code",
   "execution_count": 21,
   "id": "cf36f4e7",
   "metadata": {},
   "outputs": [],
   "source": [
    "x_train,x_test,y_train,y_test = train_test_split(x,y,test_size=0.30,random_state=123)"
   ]
  },
  {
   "cell_type": "code",
   "execution_count": 22,
   "id": "7b176fb2",
   "metadata": {},
   "outputs": [
    {
     "data": {
      "text/plain": [
       "(7361, 16)"
      ]
     },
     "execution_count": 22,
     "metadata": {},
     "output_type": "execute_result"
    }
   ],
   "source": [
    "x_train.shape"
   ]
  },
  {
   "cell_type": "code",
   "execution_count": 23,
   "id": "d2fa9aef",
   "metadata": {},
   "outputs": [
    {
     "data": {
      "text/plain": [
       "(3155, 16)"
      ]
     },
     "execution_count": 23,
     "metadata": {},
     "output_type": "execute_result"
    }
   ],
   "source": [
    "x_test.shape"
   ]
  },
  {
   "cell_type": "code",
   "execution_count": null,
   "id": "654df13b",
   "metadata": {},
   "outputs": [],
   "source": []
  },
  {
   "cell_type": "markdown",
   "id": "9cc3aa40",
   "metadata": {},
   "source": [
    "#### Standard scaler"
   ]
  },
  {
   "cell_type": "code",
   "execution_count": 24,
   "id": "28a3c8cb",
   "metadata": {},
   "outputs": [],
   "source": [
    "sclr = StandardScaler()"
   ]
  },
  {
   "cell_type": "code",
   "execution_count": 25,
   "id": "b98d123a",
   "metadata": {},
   "outputs": [],
   "source": [
    "x_train = sclr.fit_transform(x_train)"
   ]
  },
  {
   "cell_type": "code",
   "execution_count": 26,
   "id": "ea0169ce",
   "metadata": {},
   "outputs": [],
   "source": [
    "x_test = sclr.transform(x_test) #to keep it as unseen data"
   ]
  },
  {
   "cell_type": "markdown",
   "id": "80f2542e",
   "metadata": {},
   "source": [
    "## SVM"
   ]
  },
  {
   "cell_type": "code",
   "execution_count": 27,
   "id": "8c775741",
   "metadata": {},
   "outputs": [],
   "source": [
    "from sklearn.svm import SVC"
   ]
  },
  {
   "cell_type": "code",
   "execution_count": 28,
   "id": "5a98177c",
   "metadata": {},
   "outputs": [],
   "source": [
    "svc = SVC()"
   ]
  },
  {
   "cell_type": "code",
   "execution_count": 29,
   "id": "83c7514e",
   "metadata": {},
   "outputs": [
    {
     "data": {
      "text/plain": [
       "SVC()"
      ]
     },
     "execution_count": 29,
     "metadata": {},
     "output_type": "execute_result"
    }
   ],
   "source": [
    "svc.fit(x_train,y_train)"
   ]
  },
  {
   "cell_type": "code",
   "execution_count": 30,
   "id": "45f5e441",
   "metadata": {},
   "outputs": [],
   "source": [
    "y_pred_train = svc.predict(x_train)\n",
    "y_pred_test = svc.predict(x_test)"
   ]
  },
  {
   "cell_type": "code",
   "execution_count": 31,
   "id": "c8558e76",
   "metadata": {},
   "outputs": [
    {
     "data": {
      "text/plain": [
       "<sklearn.metrics._plot.confusion_matrix.ConfusionMatrixDisplay at 0x11edf912c70>"
      ]
     },
     "execution_count": 31,
     "metadata": {},
     "output_type": "execute_result"
    },
    {
     "data": {
      "image/png": "[encoded data removed]",
      "text/plain": [
       "<Figure size 720x720 with 2 Axes>"
      ]
     },
     "metadata": {
      "needs_background": "light"
     },
     "output_type": "display_data"
    }
   ],
   "source": [
    "fig, ax = plt.subplots( figsize=(10, 10))\n",
    "plot_confusion_matrix(svc,x_train,y_train, ax=ax)"
   ]
  },
  {
   "cell_type": "code",
   "execution_count": 32,
   "id": "362f5069",
   "metadata": {},
   "outputs": [
    {
     "name": "stdout",
     "output_type": "stream",
     "text": [
      "              precision    recall  f1-score   support\n",
      "\n",
      "           A       0.99      0.99      0.99       528\n",
      "           E       0.95      0.98      0.96       515\n",
      "           F       0.99      0.97      0.98       505\n",
      "           H       0.91      0.98      0.94       510\n",
      "           I       0.99      0.97      0.98       380\n",
      "           K       0.97      0.96      0.97       508\n",
      "           L       0.99      0.95      0.97       472\n",
      "           M       0.97      0.96      0.97       510\n",
      "           N       0.99      0.97      0.98       477\n",
      "           T       0.98      0.97      0.98       532\n",
      "           V       0.99      0.97      0.98       495\n",
      "           W       0.98      0.98      0.98       511\n",
      "           X       0.96      0.99      0.97       464\n",
      "           Y       0.98      0.98      0.98       512\n",
      "           Z       0.99      0.99      0.99       442\n",
      "\n",
      "    accuracy                           0.97      7361\n",
      "   macro avg       0.98      0.97      0.97      7361\n",
      "weighted avg       0.97      0.97      0.97      7361\n",
      "\n"
     ]
    }
   ],
   "source": [
    "print(classification_report(y_train,y_pred_train))"
   ]
  },
  {
   "cell_type": "code",
   "execution_count": 33,
   "id": "9c8fbbc6",
   "metadata": {},
   "outputs": [
    {
     "data": {
      "text/plain": [
       "<sklearn.metrics._plot.confusion_matrix.ConfusionMatrixDisplay at 0x11edf912070>"
      ]
     },
     "execution_count": 33,
     "metadata": {},
     "output_type": "execute_result"
    },
    {
     "data": {
      "image/png": "[encoded data removed]",
      "text/plain": [
       "<Figure size 720x720 with 2 Axes>"
      ]
     },
     "metadata": {
      "needs_background": "light"
     },
     "output_type": "display_data"
    }
   ],
   "source": [
    "fig, ax = plt.subplots( figsize=(10, 10))\n",
    "plot_confusion_matrix(svc,x_test,y_test,ax=ax)"
   ]
  },
  {
   "cell_type": "code",
   "execution_count": 34,
   "id": "fd6f9446",
   "metadata": {},
   "outputs": [
    {
     "name": "stdout",
     "output_type": "stream",
     "text": [
      "              precision    recall  f1-score   support\n",
      "\n",
      "           A       1.00      0.99      0.99       228\n",
      "           E       0.95      0.96      0.95       210\n",
      "           F       0.98      0.95      0.97       247\n",
      "           H       0.82      0.95      0.88       194\n",
      "           I       0.96      0.95      0.96       144\n",
      "           K       0.95      0.94      0.95       210\n",
      "           L       0.97      0.93      0.95       201\n",
      "           M       0.98      0.95      0.96       222\n",
      "           N       0.98      0.92      0.95       211\n",
      "           T       0.95      0.98      0.96       216\n",
      "           V       0.98      0.92      0.95       211\n",
      "           W       0.97      0.98      0.98       215\n",
      "           X       0.93      0.96      0.94       214\n",
      "           Y       0.97      0.99      0.98       234\n",
      "           Z       0.98      0.98      0.98       198\n",
      "\n",
      "    accuracy                           0.96      3155\n",
      "   macro avg       0.96      0.96      0.96      3155\n",
      "weighted avg       0.96      0.96      0.96      3155\n",
      "\n"
     ]
    }
   ],
   "source": [
    "print(classification_report(y_test,y_pred_test))"
   ]
  },
  {
   "cell_type": "code",
   "execution_count": null,
   "id": "61662f2f",
   "metadata": {},
   "outputs": [],
   "source": []
  },
  {
   "cell_type": "markdown",
   "id": "7b93f0e6",
   "metadata": {},
   "source": [
    "### Tuning"
   ]
  },
  {
   "cell_type": "code",
   "execution_count": 35,
   "id": "a2521644",
   "metadata": {},
   "outputs": [],
   "source": [
    "from sklearn.model_selection import GridSearchCV"
   ]
  },
  {
   "cell_type": "code",
   "execution_count": 36,
   "id": "0288e737",
   "metadata": {},
   "outputs": [],
   "source": [
    "param_grid = {\"kernel\" :[\"linear\",\"rbf\",\"poly\"],\n",
    "             \"C\" : [0.1,1,10,100],\n",
    "             \"gamma\" : [0.0001,0.01,0.1,1,10]}\n",
    "\n",
    "svc1 = SVC(random_state=10)\n",
    "grid_search = GridSearchCV(estimator=svc1,param_grid=param_grid,cv = 5)"
   ]
  },
  {
   "cell_type": "code",
   "execution_count": 37,
   "id": "13d5e87e",
   "metadata": {},
   "outputs": [
    {
     "data": {
      "text/plain": [
       "GridSearchCV(cv=5, estimator=SVC(random_state=10),\n",
       "             param_grid={'C': [0.1, 1, 10, 100],\n",
       "                         'gamma': [0.0001, 0.01, 0.1, 1, 10],\n",
       "                         'kernel': ['linear', 'rbf', 'poly']})"
      ]
     },
     "execution_count": 37,
     "metadata": {},
     "output_type": "execute_result"
    }
   ],
   "source": [
    "grid_search.fit(x_train,y_train)"
   ]
  },
  {
   "cell_type": "code",
   "execution_count": 38,
   "id": "6a688d71",
   "metadata": {},
   "outputs": [
    {
     "data": {
      "text/plain": [
       "{'C': 10, 'gamma': 0.1, 'kernel': 'rbf'}"
      ]
     },
     "execution_count": 38,
     "metadata": {},
     "output_type": "execute_result"
    }
   ],
   "source": [
    "grid_search.best_params_"
   ]
  },
  {
   "cell_type": "code",
   "execution_count": 39,
   "id": "eb6288d5",
   "metadata": {},
   "outputs": [],
   "source": [
    "svc1 = grid_search.best_estimator_"
   ]
  },
  {
   "cell_type": "code",
   "execution_count": 40,
   "id": "1b627545",
   "metadata": {},
   "outputs": [],
   "source": [
    "y_pred_train = svc1.predict(x_train)\n",
    "y_pred_test = svc1.predict(x_test)"
   ]
  },
  {
   "cell_type": "code",
   "execution_count": 41,
   "id": "c72d3b02",
   "metadata": {},
   "outputs": [
    {
     "data": {
      "text/plain": [
       "<sklearn.metrics._plot.confusion_matrix.ConfusionMatrixDisplay at 0x11ededd3850>"
      ]
     },
     "execution_count": 41,
     "metadata": {},
     "output_type": "execute_result"
    },
    {
     "data": {
      "image/png": "[encoded data removed]",
      "text/plain": [
       "<Figure size 720x720 with 2 Axes>"
      ]
     },
     "metadata": {
      "needs_background": "light"
     },
     "output_type": "display_data"
    }
   ],
   "source": [
    "fig, ax = plt.subplots( figsize=(10, 10))\n",
    "plot_confusion_matrix(svc1,x_train,y_train,ax=ax)"
   ]
  },
  {
   "cell_type": "code",
   "execution_count": 42,
   "id": "2ce70e1f",
   "metadata": {},
   "outputs": [
    {
     "name": "stdout",
     "output_type": "stream",
     "text": [
      "              precision    recall  f1-score   support\n",
      "\n",
      "           A       1.00      1.00      1.00       528\n",
      "           E       1.00      1.00      1.00       515\n",
      "           F       1.00      1.00      1.00       505\n",
      "           H       0.99      1.00      1.00       510\n",
      "           I       1.00      1.00      1.00       380\n",
      "           K       1.00      1.00      1.00       508\n",
      "           L       1.00      1.00      1.00       472\n",
      "           M       1.00      1.00      1.00       510\n",
      "           N       1.00      1.00      1.00       477\n",
      "           T       1.00      1.00      1.00       532\n",
      "           V       1.00      1.00      1.00       495\n",
      "           W       1.00      1.00      1.00       511\n",
      "           X       0.99      1.00      1.00       464\n",
      "           Y       1.00      1.00      1.00       512\n",
      "           Z       1.00      1.00      1.00       442\n",
      "\n",
      "    accuracy                           1.00      7361\n",
      "   macro avg       1.00      1.00      1.00      7361\n",
      "weighted avg       1.00      1.00      1.00      7361\n",
      "\n"
     ]
    }
   ],
   "source": [
    "print(classification_report(y_train,y_pred_train))"
   ]
  },
  {
   "cell_type": "code",
   "execution_count": 43,
   "id": "aad66377",
   "metadata": {},
   "outputs": [
    {
     "data": {
      "text/plain": [
       "<sklearn.metrics._plot.confusion_matrix.ConfusionMatrixDisplay at 0x11edfdfc280>"
      ]
     },
     "execution_count": 43,
     "metadata": {},
     "output_type": "execute_result"
    },
    {
     "data": {
      "image/png": "[encoded data removed]",
      "text/plain": [
       "<Figure size 720x720 with 2 Axes>"
      ]
     },
     "metadata": {
      "needs_background": "light"
     },
     "output_type": "display_data"
    }
   ],
   "source": [
    "fig, ax = plt.subplots( figsize=(10, 10))\n",
    "plot_confusion_matrix(svc1,x_test,y_test,ax=ax)"
   ]
  },
  {
   "cell_type": "code",
   "execution_count": 44,
   "id": "91b71a80",
   "metadata": {},
   "outputs": [
    {
     "name": "stdout",
     "output_type": "stream",
     "text": [
      "              precision    recall  f1-score   support\n",
      "\n",
      "           A       1.00      1.00      1.00       228\n",
      "           E       0.98      0.99      0.99       210\n",
      "           F       1.00      0.98      0.99       247\n",
      "           H       0.94      0.97      0.96       194\n",
      "           I       0.98      1.00      0.99       144\n",
      "           K       0.96      0.96      0.96       210\n",
      "           L       0.99      0.99      0.99       201\n",
      "           M       1.00      0.99      0.99       222\n",
      "           N       1.00      0.99      0.99       211\n",
      "           T       0.98      0.99      0.98       216\n",
      "           V       0.99      0.98      0.98       211\n",
      "           W       0.99      0.99      0.99       215\n",
      "           X       0.98      0.98      0.98       214\n",
      "           Y       0.99      0.99      0.99       234\n",
      "           Z       1.00      0.99      0.99       198\n",
      "\n",
      "    accuracy                           0.98      3155\n",
      "   macro avg       0.98      0.98      0.98      3155\n",
      "weighted avg       0.98      0.98      0.98      3155\n",
      "\n"
     ]
    }
   ],
   "source": [
    "print(classification_report(y_test,y_pred_test))"
   ]
  },
  {
   "cell_type": "code",
   "execution_count": null,
   "id": "718b6791",
   "metadata": {},
   "outputs": [],
   "source": []
  },
  {
   "cell_type": "code",
   "execution_count": null,
   "id": "799d0413",
   "metadata": {},
   "outputs": [],
   "source": []
  },
  {
   "cell_type": "code",
   "execution_count": null,
   "id": "ca67eb0f",
   "metadata": {},
   "outputs": [],
   "source": []
  },
  {
   "cell_type": "code",
   "execution_count": null,
   "id": "3fedc2a6",
   "metadata": {},
   "outputs": [],
   "source": []
  },
  {
   "cell_type": "code",
   "execution_count": null,
   "id": "ada414ef",
   "metadata": {},
   "outputs": [],
   "source": []
  },
  {
   "cell_type": "code",
   "execution_count": null,
   "id": "5dfef637",
   "metadata": {},
   "outputs": [],
   "source": []
  },
  {
   "cell_type": "code",
   "execution_count": null,
   "id": "893d2044",
   "metadata": {},
   "outputs": [],
   "source": []
  }
 ],
 "metadata": {
  "kernelspec": {
   "display_name": "Python 3 (ipykernel)",
   "language": "python",
   "name": "python3"
  },
  "language_info": {
   "codemirror_mode": {
    "name": "ipython",
    "version": 3
   },
   "file_extension": ".py",
   "mimetype": "text/x-python",
   "name": "python",
   "nbconvert_exporter": "python",
   "pygments_lexer": "ipython3",
   "version": "3.9.7"
  }
 },
 "nbformat": 4,
 "nbformat_minor": 5
}
