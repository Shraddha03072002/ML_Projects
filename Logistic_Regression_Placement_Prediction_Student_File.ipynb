{
 "cells": [
  {
   "cell_type": "markdown",
   "id": "ae5d99bc",
   "metadata": {},
   "source": [
    "### Problem Statement:\n",
    "\n",
    "Predict the placement status based on scores at several examinations. Evaluate the predictions using classification report and ROC AUC Curve"
   ]
  },
  {
   "cell_type": "markdown",
   "id": "7da6d1fc",
   "metadata": {},
   "source": [
    "Source: https://www.kaggle.com/benroshan/factors-affecting-campus-placement"
   ]
  },
  {
   "cell_type": "markdown",
   "id": "8d4945dd",
   "metadata": {},
   "source": [
    "#### Data Dictionary (Understand & explain each feature in the data)"
   ]
  },
  {
   "cell_type": "markdown",
   "id": "04ebb684",
   "metadata": {},
   "source": []
  },
  {
   "cell_type": "markdown",
   "id": "e84626bf",
   "metadata": {},
   "source": [
    "#### Import required packages"
   ]
  },
  {
   "cell_type": "code",
   "execution_count": null,
   "id": "32c8cc59",
   "metadata": {},
   "outputs": [],
   "source": []
  },
  {
   "cell_type": "markdown",
   "id": "454e3e05",
   "metadata": {},
   "source": [
    "#### Load and view the data"
   ]
  },
  {
   "cell_type": "code",
   "execution_count": null,
   "id": "309d7125",
   "metadata": {},
   "outputs": [],
   "source": [
    "df = pd.read_csv('placement.csv')"
   ]
  },
  {
   "cell_type": "code",
   "execution_count": null,
   "id": "2964c950",
   "metadata": {},
   "outputs": [],
   "source": [
    "df.head()"
   ]
  },
  {
   "cell_type": "code",
   "execution_count": null,
   "id": "989136c1",
   "metadata": {},
   "outputs": [],
   "source": [
    "df.tail()"
   ]
  },
  {
   "cell_type": "code",
   "execution_count": null,
   "id": "84e4cba9",
   "metadata": {},
   "outputs": [],
   "source": [
    "# Dimension of the dataset\n"
   ]
  },
  {
   "cell_type": "code",
   "execution_count": null,
   "id": "a96b512b",
   "metadata": {},
   "outputs": [],
   "source": [
    "# Check the structure of data using info command\n"
   ]
  },
  {
   "cell_type": "code",
   "execution_count": null,
   "id": "b9073028",
   "metadata": {},
   "outputs": [],
   "source": [
    "# Data summary for all features in the data\n"
   ]
  },
  {
   "cell_type": "code",
   "execution_count": null,
   "id": "c6e07548",
   "metadata": {},
   "outputs": [],
   "source": [
    "# Check the distribution of the labelled field (Class variable)\n"
   ]
  },
  {
   "cell_type": "markdown",
   "id": "25dafe5d",
   "metadata": {},
   "source": [
    "##### Observations:\n",
    "\n",
    "sl_no is a unique id used as an identity for each observation. As it is not useful we can drop the same.\n",
    "\n",
    "We observe special character like '&' being used in data which can be replaced by space to avoid any possible error while processing the data\n",
    "\n",
    "There are 215 observations in the data with 6 numeric fields and 8 categorical fields\n",
    "\n",
    "There are no missing values in the data\n",
    "\n",
    "'status' is the dependent variable. 69% of the observations correspond to a status of 'Placed' and remaining 31% correspond to 'Not Placed'. There is a class imbalance observed in the data"
   ]
  },
  {
   "cell_type": "markdown",
   "id": "79c115c7",
   "metadata": {},
   "source": [
    "### Data Cleanup"
   ]
  },
  {
   "cell_type": "code",
   "execution_count": null,
   "id": "9d9168ee",
   "metadata": {},
   "outputs": [],
   "source": [
    "# Drop sl_no field as it will not be used in the model\n"
   ]
  },
  {
   "cell_type": "code",
   "execution_count": null,
   "id": "771c072f",
   "metadata": {},
   "outputs": [],
   "source": [
    "# View bad data in degree_t feature\n",
    "df.degree_t.head()"
   ]
  },
  {
   "cell_type": "code",
   "execution_count": null,
   "id": "1e40c603",
   "metadata": {},
   "outputs": [],
   "source": [
    "# Check the frequency distribution of the categorical levels in degree_t feature\n"
   ]
  },
  {
   "cell_type": "code",
   "execution_count": null,
   "id": "59e5807a",
   "metadata": {},
   "outputs": [],
   "source": [
    "# Replace '&' with 'And' in degree_t \n"
   ]
  },
  {
   "cell_type": "code",
   "execution_count": null,
   "id": "efb05d1a",
   "metadata": {},
   "outputs": [],
   "source": [
    "# Check the frequency distribution of the categorical levels in degree_t feature and compare with orignial data\n"
   ]
  },
  {
   "cell_type": "code",
   "execution_count": null,
   "id": "19d08832",
   "metadata": {},
   "outputs": [],
   "source": [
    "# Cleanup specialisation feature in similar way"
   ]
  },
  {
   "cell_type": "code",
   "execution_count": null,
   "id": "c3cd5b90",
   "metadata": {},
   "outputs": [],
   "source": []
  },
  {
   "cell_type": "code",
   "execution_count": null,
   "id": "5ac45018",
   "metadata": {},
   "outputs": [],
   "source": []
  },
  {
   "cell_type": "code",
   "execution_count": null,
   "id": "c235e25c",
   "metadata": {},
   "outputs": [],
   "source": []
  },
  {
   "cell_type": "code",
   "execution_count": null,
   "id": "acf7b583",
   "metadata": {},
   "outputs": [],
   "source": [
    "# Check for duplicates\n"
   ]
  },
  {
   "cell_type": "code",
   "execution_count": null,
   "id": "dd619a9e",
   "metadata": {},
   "outputs": [],
   "source": [
    "# Final dimension of the dataframe\n"
   ]
  },
  {
   "cell_type": "code",
   "execution_count": null,
   "id": "5f0b9c42",
   "metadata": {},
   "outputs": [],
   "source": [
    "# Final structure of dataframe after cleanup\n"
   ]
  },
  {
   "cell_type": "markdown",
   "id": "f5fbeff5",
   "metadata": {},
   "source": [
    "### EDA"
   ]
  },
  {
   "cell_type": "markdown",
   "id": "1d44fe12",
   "metadata": {},
   "source": [
    "#### Univariate Analysis"
   ]
  },
  {
   "cell_type": "code",
   "execution_count": null,
   "id": "28dc819a",
   "metadata": {},
   "outputs": [],
   "source": [
    "fig_dims = (15, 5)\n",
    "fig, axs = plt.subplots(nrows=1, ncols=2, figsize=fig_dims)\n",
    "sns.histplot(x='ssc_p', data=df, ax=axs[0])\n",
    "sns.boxplot(x='ssc_p', data=df,ax=axs[1])"
   ]
  },
  {
   "cell_type": "code",
   "execution_count": null,
   "id": "a5daf835",
   "metadata": {},
   "outputs": [],
   "source": [
    "# Univariate analysis for hsc_p\n",
    "\n"
   ]
  },
  {
   "cell_type": "code",
   "execution_count": null,
   "id": "e3bc059c",
   "metadata": {},
   "outputs": [],
   "source": [
    "# Univariate analysis for degree_p\n",
    "\n"
   ]
  },
  {
   "cell_type": "code",
   "execution_count": null,
   "id": "1ee69228",
   "metadata": {},
   "outputs": [],
   "source": [
    "fig_dims = (15, 5)\n",
    "fig, axs = plt.subplots(nrows=1, ncols=2, figsize=fig_dims)\n",
    "sns.histplot(x='etest_p', data=df, ax=axs[0])\n",
    "sns.boxplot(x='etest_p', data=df,ax=axs[1])"
   ]
  },
  {
   "cell_type": "markdown",
   "id": "d4697f5b",
   "metadata": {},
   "source": [
    "#### Observation:\n",
    "\n",
    "Numeric fields are slightly rigth skewed. Fields 'degree_p' and 'hsc_p' show outliers"
   ]
  },
  {
   "cell_type": "code",
   "execution_count": null,
   "id": "5543a8a8",
   "metadata": {},
   "outputs": [],
   "source": [
    "sns.countplot(x='degree_t', data=df)"
   ]
  },
  {
   "cell_type": "markdown",
   "id": "4f790ea1",
   "metadata": {},
   "source": [
    "#### Observation:\n",
    "\n",
    "Maximum candidates are with 'Communication and Management' degree"
   ]
  },
  {
   "cell_type": "code",
   "execution_count": null,
   "id": "281b9d7d",
   "metadata": {},
   "outputs": [],
   "source": [
    "# Countplot for workex\n"
   ]
  },
  {
   "cell_type": "markdown",
   "id": "2513c8af",
   "metadata": {},
   "source": [
    "#### Observation:\n",
    "\n",
    "Maximum candidates are without any work experience"
   ]
  },
  {
   "cell_type": "markdown",
   "id": "1f9d8c38",
   "metadata": {},
   "source": [
    "#### Bivariate Analysis"
   ]
  },
  {
   "cell_type": "code",
   "execution_count": null,
   "id": "0fc381d4",
   "metadata": {},
   "outputs": [],
   "source": [
    "df_num = df.select_dtypes(exclude='object')\n",
    "num_list = df_num.columns\n",
    "num_list"
   ]
  },
  {
   "cell_type": "code",
   "execution_count": null,
   "id": "ca044bdc",
   "metadata": {},
   "outputs": [],
   "source": [
    "df_cat = df.select_dtypes(include='object')\n",
    "cat_list = df_cat.columns\n",
    "cat_list"
   ]
  },
  {
   "cell_type": "code",
   "execution_count": null,
   "id": "14c28c60",
   "metadata": {},
   "outputs": [],
   "source": [
    "# Pairplot for numeric features\n"
   ]
  },
  {
   "cell_type": "code",
   "execution_count": null,
   "id": "76675a40",
   "metadata": {},
   "outputs": [],
   "source": [
    "# Save coefficient of correlation in corr object\n"
   ]
  },
  {
   "cell_type": "code",
   "execution_count": null,
   "id": "f1257ebe",
   "metadata": {},
   "outputs": [],
   "source": [
    "# Plot a heatmap to analyze correlation\n",
    "sns.heatmap(corr, annot=True)"
   ]
  },
  {
   "cell_type": "markdown",
   "id": "13bc7e6c",
   "metadata": {},
   "source": [
    "#### Observation:\n",
    "\n",
    "Numeric fields are not much correlated with each other. There is no multicollinearity in data."
   ]
  },
  {
   "cell_type": "code",
   "execution_count": null,
   "id": "9a711505",
   "metadata": {},
   "outputs": [],
   "source": [
    "# Bivariate analysis of workex and etest_p\n"
   ]
  },
  {
   "cell_type": "markdown",
   "id": "fb556181",
   "metadata": {},
   "source": [
    "Median etest score of experienced candidates is slightly more than that of inexperienced candidates"
   ]
  },
  {
   "cell_type": "code",
   "execution_count": null,
   "id": "1849f51f",
   "metadata": {},
   "outputs": [],
   "source": [
    "# Bivariate analysis of specialisation and status\n",
    "\n"
   ]
  },
  {
   "cell_type": "markdown",
   "id": "f7821783",
   "metadata": {},
   "source": [
    "It is observed that more number of candidates with 'MktAndFin' specialisation have been placed "
   ]
  },
  {
   "cell_type": "markdown",
   "id": "c9fa0c92",
   "metadata": {},
   "source": [
    "#### Multivariate Analysis"
   ]
  },
  {
   "cell_type": "code",
   "execution_count": null,
   "id": "328bdd7c",
   "metadata": {},
   "outputs": [],
   "source": [
    "sns.scatterplot(x='ssc_p', y='degree_p', hue='status', data=df)"
   ]
  },
  {
   "cell_type": "markdown",
   "id": "eeef63a1",
   "metadata": {},
   "source": [
    "It is observed that candidates with higher ssc and degree scores have been placed"
   ]
  },
  {
   "cell_type": "code",
   "execution_count": null,
   "id": "e6c43fc3",
   "metadata": {},
   "outputs": [],
   "source": [
    "# Multivariate analysis of hsc_s, etest_p and status\n",
    "\n"
   ]
  },
  {
   "cell_type": "markdown",
   "id": "8dfa3cfc",
   "metadata": {},
   "source": [
    "Median etest score of candidates who have been Placed is higher compared to who have not been placed.\n",
    "\n",
    "Median etest score of 'Commerce' and 'Science' candidates is comparatively higher than that of Arts candidates"
   ]
  },
  {
   "cell_type": "markdown",
   "id": "b26a20bc",
   "metadata": {},
   "source": [
    "### Data Preparation"
   ]
  },
  {
   "cell_type": "markdown",
   "id": "092b7d07",
   "metadata": {},
   "source": [
    "#### Import libraries required for data preparation"
   ]
  },
  {
   "cell_type": "code",
   "execution_count": null,
   "id": "ee82d554",
   "metadata": {},
   "outputs": [],
   "source": []
  },
  {
   "cell_type": "markdown",
   "id": "81ae9620",
   "metadata": {},
   "source": [
    "##### Label Encoding"
   ]
  },
  {
   "cell_type": "code",
   "execution_count": null,
   "id": "5cc907d6",
   "metadata": {},
   "outputs": [],
   "source": [
    "le = LabelEncoder()"
   ]
  },
  {
   "cell_type": "code",
   "execution_count": null,
   "id": "2b4fa94c",
   "metadata": {},
   "outputs": [],
   "source": [
    "# Perform label encoding using le object\n",
    "\n"
   ]
  },
  {
   "cell_type": "code",
   "execution_count": null,
   "id": "81039aa7",
   "metadata": {},
   "outputs": [],
   "source": [
    "df.head()"
   ]
  },
  {
   "cell_type": "markdown",
   "id": "7229fe16",
   "metadata": {},
   "source": [
    "##### Outlier Treatment"
   ]
  },
  {
   "cell_type": "code",
   "execution_count": null,
   "id": "9381ed82",
   "metadata": {},
   "outputs": [],
   "source": [
    "df[num_list].boxplot()\n",
    "plt.xticks(rotation=90)\n",
    "plt.show()"
   ]
  },
  {
   "cell_type": "code",
   "execution_count": null,
   "id": "e15a74cc",
   "metadata": {},
   "outputs": [],
   "source": [
    "# Define a function treat_outlier to imput whisker values to the outlier\n",
    "\n",
    "\n",
    "\n"
   ]
  },
  {
   "cell_type": "code",
   "execution_count": null,
   "id": "83c7aa0f",
   "metadata": {},
   "outputs": [],
   "source": [
    "for i in num_list:\n",
    "    df[i]=treat_outlier(df[i])"
   ]
  },
  {
   "cell_type": "code",
   "execution_count": null,
   "id": "57cb25e4",
   "metadata": {},
   "outputs": [],
   "source": [
    "df[num_list].boxplot()\n",
    "plt.xticks(rotation=90)\n",
    "plt.show()"
   ]
  },
  {
   "cell_type": "code",
   "execution_count": null,
   "id": "48bd268b",
   "metadata": {},
   "outputs": [],
   "source": [
    "df.info()"
   ]
  },
  {
   "cell_type": "code",
   "execution_count": null,
   "id": "3990b4c6",
   "metadata": {},
   "outputs": [],
   "source": [
    "df.status.value_counts()"
   ]
  },
  {
   "cell_type": "markdown",
   "id": "f4b5fa24",
   "metadata": {},
   "source": [
    "#### Import all libraries required for building and evaluation the model"
   ]
  },
  {
   "cell_type": "code",
   "execution_count": null,
   "id": "3f227bff",
   "metadata": {},
   "outputs": [],
   "source": []
  },
  {
   "cell_type": "markdown",
   "id": "d5dcae9c",
   "metadata": {},
   "source": [
    "#### Logistic Regression Model "
   ]
  },
  {
   "cell_type": "code",
   "execution_count": null,
   "id": "2680da0d",
   "metadata": {},
   "outputs": [],
   "source": [
    "# Capture independent variables in x and dependent in y\n",
    "\n"
   ]
  },
  {
   "cell_type": "code",
   "execution_count": null,
   "id": "17c8d880",
   "metadata": {},
   "outputs": [],
   "source": [
    "# Perform train test split with 30% test set\n",
    "X_train, X_test, Y_train, Y_test = "
   ]
  },
  {
   "cell_type": "code",
   "execution_count": null,
   "id": "c4fdc03b",
   "metadata": {},
   "outputs": [],
   "source": [
    "# Create an object of Logistic Regression and train the model using fit fucntion\n",
    "\n"
   ]
  },
  {
   "cell_type": "code",
   "execution_count": null,
   "id": "771c3ddf",
   "metadata": {},
   "outputs": [],
   "source": [
    "# Check accuracy of train data\n"
   ]
  },
  {
   "cell_type": "code",
   "execution_count": null,
   "id": "c08dc33d",
   "metadata": {},
   "outputs": [],
   "source": [
    "# Check accuracy of test data\n"
   ]
  },
  {
   "cell_type": "code",
   "execution_count": null,
   "id": "0778dc35",
   "metadata": {},
   "outputs": [],
   "source": [
    "# Predict y for train ans test data\n",
    "Y_train_predict = \n",
    "Y_test_predict = "
   ]
  },
  {
   "cell_type": "code",
   "execution_count": null,
   "id": "0c449b06",
   "metadata": {},
   "outputs": [],
   "source": [
    "# Plot confusion matrix for train\n"
   ]
  },
  {
   "cell_type": "code",
   "execution_count": null,
   "id": "a0ccd383",
   "metadata": {},
   "outputs": [],
   "source": [
    "# Print classification report for train data\n"
   ]
  },
  {
   "cell_type": "code",
   "execution_count": null,
   "id": "57032643",
   "metadata": {},
   "outputs": [],
   "source": [
    "# Plot confusion matrix for test\n",
    "\n"
   ]
  },
  {
   "cell_type": "code",
   "execution_count": null,
   "id": "abcd17c8",
   "metadata": {},
   "outputs": [],
   "source": [
    "# Print classification report for test data\n"
   ]
  },
  {
   "cell_type": "code",
   "execution_count": null,
   "id": "76647e82",
   "metadata": {},
   "outputs": [],
   "source": [
    "df_pred = pd.DataFrame(Y_test.values, columns=['Actual'])\n",
    "df_pred['Class_Pred'] = Y_test_predict\n",
    "df_pred['Prob_Pred_1'] = logreg.predict_proba(X_test)[:,1]\n",
    "df_pred.head()"
   ]
  },
  {
   "cell_type": "code",
   "execution_count": null,
   "id": "aab43741",
   "metadata": {},
   "outputs": [],
   "source": [
    "sns.boxplot(x='Class_Pred', y='Prob_Pred_1', data=df_pred)"
   ]
  },
  {
   "cell_type": "code",
   "execution_count": null,
   "id": "4a85c3bf",
   "metadata": {},
   "outputs": [],
   "source": [
    "sns.boxplot(x='Actual', y='Prob_Pred_1', data=df_pred)"
   ]
  },
  {
   "cell_type": "code",
   "execution_count": null,
   "id": "d207ebe8",
   "metadata": {},
   "outputs": [],
   "source": [
    "# predict probabilities\n",
    "probs = logreg.predict_proba(X_train)\n",
    "# keep probabilities for the positive outcome only\n",
    "probs = probs[:, 1]\n",
    "# calculate AUC\n",
    "auc = roc_auc_score(Y_train, probs)\n",
    "print('AUC: %.3f' % auc)\n",
    "# calculate roc curve\n",
    "train_fpr, train_tpr, train_thresholds = roc_curve(Y_train, probs)\n",
    "plt.plot([0, 1], [0, 1], linestyle='--')\n",
    "# plot the roc curve for the model\n",
    "plt.plot(train_fpr, train_tpr);"
   ]
  },
  {
   "cell_type": "code",
   "execution_count": null,
   "id": "b2dc4883",
   "metadata": {},
   "outputs": [],
   "source": [
    "# Plot ROC Curve for test data\n"
   ]
  },
  {
   "cell_type": "markdown",
   "id": "ad547e5b",
   "metadata": {},
   "source": [
    "##### Conclusion:\n",
    "\n",
    "Overall accuracy of the built logistic regression model is at 86% on the test dataset. \n",
    "\n",
    "Recall for both class 0 and class 1 is 0.90 and 0.85 respectively.\n",
    "\n",
    "Accuracy in train dataset is at 88% and test dataset is at 86%. As there is not much difference, there is no overfitting in the model.\n",
    "\n",
    "AUC for test data is at 0.97.\n",
    "\n",
    "Considering the evaluation, we can consider the above model as the final one."
   ]
  },
  {
   "cell_type": "markdown",
   "id": "1cd63f1b",
   "metadata": {},
   "source": [
    "##### Never Stop Learning!!!"
   ]
  }
 ],
 "metadata": {
  "kernelspec": {
   "display_name": "Python 3",
   "language": "python",
   "name": "python3"
  },
  "language_info": {
   "codemirror_mode": {
    "name": "ipython",
    "version": 3
   },
   "file_extension": ".py",
   "mimetype": "text/x-python",
   "name": "python",
   "nbconvert_exporter": "python",
   "pygments_lexer": "ipython3",
   "version": "3.8.8"
  }
 },
 "nbformat": 4,
 "nbformat_minor": 5
}
